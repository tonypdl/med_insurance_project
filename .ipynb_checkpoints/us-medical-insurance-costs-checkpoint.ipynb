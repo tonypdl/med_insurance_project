{
 "cells": [
  {
   "cell_type": "markdown",
   "metadata": {},
   "source": [
    "# U.S. Medical Insurance Costs"
   ]
  },
  {
   "cell_type": "code",
   "execution_count": 49,
   "metadata": {},
   "outputs": [],
   "source": [
    "import csv\n",
    "import matplotlib.pyplot as plt\n",
    "import pprint"
   ]
  },
  {
   "cell_type": "markdown",
   "metadata": {},
   "source": [
    "After importing my csv library and matplotlib which I'll use later, I wanted to open up my csv file and change it into a dictionary. My first stop was making a list out of every column of data. Each row had a different individual and so each index of each list would match up. The cell below utilizes the with/as combo to open up my raw csv and then creates empty lists for each column. Then for every row, it adds the value in order to the list it belongs in. "
   ]
  },
  {
   "cell_type": "code",
   "execution_count": 50,
   "metadata": {},
   "outputs": [],
   "source": [
    "with open(\"insurance.csv\") as insurance_csv:\n",
    "    insurance_dict = csv.DictReader(insurance_csv)\n",
    "    # lists for each column\n",
    "    age_list = []\n",
    "    sex_list = []\n",
    "    bmi_list = []\n",
    "    children_list = []\n",
    "    smoker_list = []\n",
    "    region_list = []\n",
    "    charges_list = []\n",
    "    for row in insurance_dict:\n",
    "        age_list.append(row['age'])\n",
    "        sex_list.append(row['sex'])\n",
    "        bmi_list.append(row['bmi'])\n",
    "        children_list.append(row['children'])\n",
    "        smoker_list.append(row['smoker'])\n",
    "        region_list.append(row['region'])\n",
    "        charges_list.append(row['charges'])"
   ]
  },
  {
   "cell_type": "markdown",
   "metadata": {},
   "source": [
    "Testing out our lists, I can reach into each list now and access a specific row of values belonging to a specific person. So our Patient 1 has an age of 18. And our Patient 77 has a bmit of 35.53. "
   ]
  },
  {
   "cell_type": "code",
   "execution_count": 51,
   "metadata": {},
   "outputs": [
    {
     "name": "stdout",
     "output_type": "stream",
     "text": [
      "18\n",
      "35.53\n"
     ]
    }
   ],
   "source": [
    "# testing out our lists!\n",
    "print(age_list[1])\n",
    "print(bmi_list[77])"
   ]
  },
  {
   "cell_type": "markdown",
   "metadata": {},
   "source": [
    "This isn't super necessary, but I wanted to label each row with a title or name. If we had names, this would be the spot for them. Since we don't, I think I decided to just label each row as Patient {#} with a number in for each row of data. Again, the indexs for all these lists match up per individual."
   ]
  },
  {
   "cell_type": "code",
   "execution_count": 52,
   "metadata": {},
   "outputs": [],
   "source": [
    "# naming each row as a \"Patient #\"\n",
    "patient_list = []\n",
    "for x in range(1, len(age_list)):\n",
    "    patient_list.append(\"Patient {}\".format(x))"
   ]
  },
  {
   "cell_type": "markdown",
   "metadata": {},
   "source": [
    "So just to show how this works, the patients are numbered from 1 to the length. So the indexes are one off from the rest of the indexes, but only in regards to the names. So Patient 78 will have index 77 across the board. The output here is fine, but could be better. Now we begin to change all of this into a dictionary."
   ]
  },
  {
   "cell_type": "code",
   "execution_count": 53,
   "metadata": {},
   "outputs": [
    {
     "name": "stdout",
     "output_type": "stream",
     "text": [
      "Patient 78 21 male 35.53 0 no southeast 1532.4697\n"
     ]
    }
   ],
   "source": [
    "# Patient 78 info\n",
    "print(patient_list[77], age_list[77], sex_list[77], bmi_list[77], children_list[77], smoker_list[77], region_list[77], charges_list[77])"
   ]
  },
  {
   "cell_type": "markdown",
   "metadata": {},
   "source": [
    "Here is where I take each datapoint from the lists and start to add them to a insurance record. So that in one list we have all of Patient 78's info! Instead of us having to know which index to reference everytime. The following for loop does just that. It takes all of the patient's info and puts it into one list, then appends that list to a bigger list called \"records_list\" that will hold all the insurance records.  We also change the data points to data types that make the most sense where it makes sense."
   ]
  },
  {
   "cell_type": "code",
   "execution_count": 54,
   "metadata": {},
   "outputs": [],
   "source": [
    "# each value in each column as a list\n",
    "# changing to types that suit best\n",
    "records_list = []\n",
    "for i in range(0, len(patient_list)):\n",
    "    current_patient = []\n",
    "    current_patient.append(int(age_list[i]))\n",
    "    current_patient.append(sex_list[i])\n",
    "    current_patient.append(float(bmi_list[i]))\n",
    "    current_patient.append(int(children_list[i]))\n",
    "    current_patient.append(smoker_list[i])\n",
    "    current_patient.append(region_list[i])\n",
    "    current_patient.append(float(charges_list[i]))\n",
    "    records_list.append(current_patient)"
   ]
  },
  {
   "cell_type": "markdown",
   "metadata": {},
   "source": [
    "Just to test this out, let's get our old pal Patient 78 (index 77). Now we have all his info in one convenient list. It would still be annoying to remember which index all this info belongs. Like that BMI is the index 2 here in each record. This is what a dictionary would be good for..."
   ]
  },
  {
   "cell_type": "code",
   "execution_count": 55,
   "metadata": {},
   "outputs": [
    {
     "name": "stdout",
     "output_type": "stream",
     "text": [
      "[21, 'male', 35.53, 0, 'no', 'southeast', 1532.4697]\n"
     ]
    }
   ],
   "source": [
    "print(records_list[77])"
   ]
  },
  {
   "cell_type": "code",
   "execution_count": 56,
   "metadata": {},
   "outputs": [],
   "source": [
    "# going to change records_list to a dictionary with keys\n",
    "# for easier access into values, created keys based on column names\n",
    "keys_for_records = [\n",
    "    \"Age\", \"Sex\", \"BMI\", \"Children\", \"Smoker\", \"Region\", \"Charges\"\n",
    "    ]"
   ]
  },
  {
   "cell_type": "markdown",
   "metadata": {},
   "source": [
    "Here we combine the keys we created for each column of data, with values. The values are our insurance records that we already has as lists. No we don't have to remember indexes! Our list of keys and our list of insurance records are zipped over and over into a dictionary. Each dictionary is then appended to a bigger list that has all the records, but as dictionaries! Check out how well Patient 78 is doing!"
   ]
  },
  {
   "cell_type": "code",
   "execution_count": 57,
   "metadata": {},
   "outputs": [],
   "source": [
    "# using for loop, made a list of dictionaries that used records_list and\n",
    "# keys_records\n",
    "records_as_dict = []\n",
    "for record in records_list:\n",
    "    records_as_dict.append(dict(zip(keys_for_records, record)))"
   ]
  },
  {
   "cell_type": "code",
   "execution_count": 58,
   "metadata": {},
   "outputs": [
    {
     "name": "stdout",
     "output_type": "stream",
     "text": [
      "{'Age': 21, 'Sex': 'male', 'BMI': 35.53, 'Children': 0, 'Smoker': 'no', 'Region': 'southeast', 'Charges': 1532.4697}\n"
     ]
    }
   ],
   "source": [
    "print(records_as_dict[77])"
   ]
  },
  {
   "cell_type": "markdown",
   "metadata": {},
   "source": [
    "Last time zipping, we are going to take our older patient list with names of patients and our \"records_as_dict\" list we just made and zip them together so we have a dictionary that can be considered the MASTER OF RECORDS. We can now access Patient 78 just by typing his name. And then access individual facts about him."
   ]
  },
  {
   "cell_type": "code",
   "execution_count": 59,
   "metadata": {},
   "outputs": [],
   "source": [
    "# this master dictionary zips together the patient list with generic names\n",
    "# and the records_as_dict, as if we did have names so everything is\n",
    "# easily accessible.\n",
    "master_records = dict(zip(patient_list, records_as_dict))"
   ]
  },
  {
   "cell_type": "code",
   "execution_count": 60,
   "metadata": {},
   "outputs": [
    {
     "name": "stdout",
     "output_type": "stream",
     "text": [
      "{'Age': 21, 'Sex': 'male', 'BMI': 35.53, 'Children': 0, 'Smoker': 'no', 'Region': 'southeast', 'Charges': 1532.4697}\n",
      "southeast\n"
     ]
    }
   ],
   "source": [
    "print(master_records[\"Patient 78\"])\n",
    "print(master_records[\"Patient 78\"][\"Region\"])"
   ]
  },
  {
   "cell_type": "markdown",
   "metadata": {},
   "source": [
    "# Analyzing Our Data, by Region"
   ]
  },
  {
   "cell_type": "markdown",
   "metadata": {},
   "source": [
    "Out of all the directions I wanted to go, I decided to hone in on location. What bearing did location have on what each person's situation was? Were there costs dependent on where they lived to an extent? Did living in a certain area lead you to have more children? Or to smoke? Or to have a higher BMI? I wanted to find out and see if there was anything out of the ordinary about the costs for insurance by region.\n",
    "\n",
    "So, I have a few variables at my disposal. I figured out I could create a function that calcualted the average by location for some of the variables (age, BMI, children, charges). The only other variable I wanted to also get an average of was smoking, but I'd have to do that separately. The function below would use control flow to add up data and then calculates an average for each region. The output was a rounded (nice to look at) average in a dictionary with a special key."
   ]
  },
  {
   "cell_type": "code",
   "execution_count": 61,
   "metadata": {},
   "outputs": [],
   "source": [
    "# function to calculate average BY LOCATION of values that use int or float\n",
    "# can be used to calculate average of age, BMI, children, charges\n",
    "# returns a dictionary\n",
    "def average_by_location(master_records, column_to_inspect):\n",
    "    sw_total, se_total, nw_total, ne_total = 0, 0, 0, 0\n",
    "    sw_num, se_num, nw_num, ne_num = 0, 0, 0, 0\n",
    "    for record in master_records.values():\n",
    "        if record[\"Region\"] == \"southwest\":\n",
    "            sw_total += record[column_to_inspect]\n",
    "            sw_num += 1\n",
    "        elif record[\"Region\"] == \"southeast\":\n",
    "            se_total += record[column_to_inspect]\n",
    "            se_num += 1\n",
    "        elif record[\"Region\"] == \"northwest\":\n",
    "            nw_total += record[column_to_inspect]\n",
    "            nw_num += 1\n",
    "        elif record[\"Region\"] == \"northeast\":\n",
    "            ne_total += record[column_to_inspect]\n",
    "            ne_num += 1\n",
    "    sw_average = sw_total / sw_num\n",
    "    se_average = se_total / se_num\n",
    "    nw_average = nw_total / nw_num\n",
    "    ne_average = ne_total / ne_num\n",
    "    average_dict = {\n",
    "        \"Northeast \" + column_to_inspect + \" Average\": round(ne_average, 2),\n",
    "        \"Southeast \" + column_to_inspect + \" Average\": round(se_average, 2),\n",
    "        \"Southwest \" + column_to_inspect + \" Average\": round(sw_average, 2),\n",
    "        \"Northwest \" + column_to_inspect + \" Average\": round(nw_average, 2)\n",
    "    }\n",
    "    return average_dict"
   ]
  },
  {
   "cell_type": "code",
   "execution_count": 62,
   "metadata": {},
   "outputs": [
    {
     "name": "stdout",
     "output_type": "stream",
     "text": [
      "{'Northeast Charges Average': 13406.38,\n",
      " 'Northwest Charges Average': 12365.96,\n",
      " 'Southeast Charges Average': 14735.41,\n",
      " 'Southwest Charges Average': 12346.94}\n",
      "{'Northeast Age Average': 39.27,\n",
      " 'Northwest Age Average': 39.13,\n",
      " 'Southeast Age Average': 38.94,\n",
      " 'Southwest Age Average': 39.46}\n",
      "{'Northeast BMI Average': 29.17,\n",
      " 'Northwest BMI Average': 29.2,\n",
      " 'Southeast BMI Average': 33.36,\n",
      " 'Southwest BMI Average': 30.6}\n",
      "{'Northeast Children Average': 1.05,\n",
      " 'Northwest Children Average': 1.15,\n",
      " 'Southeast Children Average': 1.05,\n",
      " 'Southwest Children Average': 1.14}\n"
     ]
    }
   ],
   "source": [
    "# testing out the function, it works!\n",
    "# function rounds to two decimal places\n",
    "reg_avg_charges = average_by_location(master_records, \"Charges\")\n",
    "reg_avg_age = average_by_location(master_records, \"Age\")\n",
    "reg_avg_bmi = average_by_location(master_records, \"BMI\")\n",
    "reg_avg_child = average_by_location(master_records, \"Children\")\n",
    "pprint.pprint(reg_avg_charges)\n",
    "pprint.pprint(reg_avg_age)\n",
    "pprint.pprint(reg_avg_bmi)\n",
    "pprint.pprint(reg_avg_child)"
   ]
  },
  {
   "cell_type": "markdown",
   "metadata": {},
   "source": [
    "Here is my smoker_probability function. It works similarly to the one above, but becuase of the string nature of the data here, I decided to tackle this differently instead of converting it to 1's and 0's."
   ]
  },
  {
   "cell_type": "code",
   "execution_count": 63,
   "metadata": {},
   "outputs": [],
   "source": [
    "def smoker_probability(master_records):\n",
    "    sw_total, se_total, nw_total, ne_total = 0, 0, 0, 0\n",
    "    sw_num, se_num, nw_num, ne_num = 0, 0, 0, 0\n",
    "    for record in master_records.values():\n",
    "        if record[\"Region\"] == \"southwest\":\n",
    "            if record[\"Smoker\"] == \"yes\":\n",
    "                sw_total += 1\n",
    "                sw_num += 1\n",
    "            else:\n",
    "                sw_num += 1\n",
    "        elif record[\"Region\"] == \"southeast\":\n",
    "            if record[\"Smoker\"] == \"yes\":\n",
    "                se_total += 1\n",
    "                se_num += 1\n",
    "            else:\n",
    "                se_num += 1\n",
    "        elif record[\"Region\"] == \"northwest\":\n",
    "            if record[\"Smoker\"] == \"yes\":\n",
    "                nw_total += 1\n",
    "                nw_num += 1\n",
    "            else:\n",
    "                nw_num += 1\n",
    "        elif record[\"Region\"] == \"northeast\":\n",
    "            if record[\"Smoker\"] == \"yes\":\n",
    "                ne_total += 1\n",
    "                ne_num += 1\n",
    "            else:\n",
    "                ne_num += 1\n",
    "    sw_y_smoker_prob = sw_total / sw_num\n",
    "    se_y_smoker_prob = se_total / se_num\n",
    "    nw_y_smoker_prob = nw_total / nw_num\n",
    "    ne_y_smoker_prob = ne_total / ne_num\n",
    "    average_dict = {\n",
    "        \"Northeast Smoker Probability\": round(sw_y_smoker_prob, 2),\n",
    "        \"Southeast Smoker Probability\": round(se_y_smoker_prob, 2),\n",
    "        \"Southwest Smoker Probability\": round(nw_y_smoker_prob, 2),\n",
    "        \"Northwest Smoker Probability\": round(ne_y_smoker_prob, 2)\n",
    "    }\n",
    "    return average_dict"
   ]
  },
  {
   "cell_type": "code",
   "execution_count": 64,
   "metadata": {},
   "outputs": [
    {
     "name": "stdout",
     "output_type": "stream",
     "text": [
      "{'Northeast Smoker Probability': 0.18,\n",
      " 'Northwest Smoker Probability': 0.21,\n",
      " 'Southeast Smoker Probability': 0.25,\n",
      " 'Southwest Smoker Probability': 0.18}\n"
     ]
    }
   ],
   "source": [
    "# calculating the probability of being a smoker in decimal\n",
    "smoker_prob = smoker_probability(master_records)\n",
    "pprint.pprint(smoker_prob)"
   ]
  },
  {
   "cell_type": "markdown",
   "metadata": {},
   "source": [
    "# What does the data mean?"
   ]
  },
  {
   "cell_type": "markdown",
   "metadata": {},
   "source": [
    "I've calculated what I wanted to, crunched some numbers, and I've realized a few things. Southeast did seem to pay more overall for insurance. Why? Age was basically the same across the board, so it wasn't that. Children Count was similarly negligible.\n",
    "\n",
    "But two variables stuck out. BMI and Smoker Status. In the Southeast, you were more likely to smoke and more likely to have a high BMI. Just on average, Southeasterners had higher BMI's than the rest of the US. Overall, Southeasterners were just more likely to smoke. This had to factor in to their costs for sure. I decided to do a few plots using matplotlib to show the BMI, Smoker Status findings and the resulting insurance costs."
   ]
  },
  {
   "cell_type": "code",
   "execution_count": 65,
   "metadata": {},
   "outputs": [
    {
     "data": {
      "image/png": "[encoded data removed]",
      "text/plain": [
       "<Figure size 432x288 with 1 Axes>"
      ]
     },
     "metadata": {
      "needs_background": "light"
     },
     "output_type": "display_data"
    }
   ],
   "source": [
    "# bar chart to compare BMI levels across regions\n",
    "diff_colors = ['green','blue','purple','brown']\n",
    "plt.bar(\n",
    "    [\"Northeast\", \"Southeast\", \"Southwest\", \"Northwest\"],\n",
    "    reg_avg_bmi.values(),\n",
    "    color=diff_colors\n",
    ")\n",
    "plt.title('Average BMI by Region', fontsize = 16)\n",
    "plt.xlabel('Region')\n",
    "plt.ylabel('BMI')\n",
    "plt.show()\n",
    "# Southeast Region leads the way in BMI levels"
   ]
  },
  {
   "cell_type": "code",
   "execution_count": 66,
   "metadata": {},
   "outputs": [
    {
     "data": {
      "image/png": "[encoded data removed]",
      "text/plain": [
       "<Figure size 432x288 with 1 Axes>"
      ]
     },
     "metadata": {
      "needs_background": "light"
     },
     "output_type": "display_data"
    }
   ],
   "source": [
    "# bar chart to compare Smoking Probability levels across regions\n",
    "diff_colors = ['green','blue','purple','brown']\n",
    "plt.bar(\n",
    "    [\"Northeast\", \"Southeast\", \"Southwest\", \"Northwest\"],\n",
    "    smoker_prob.values(),\n",
    "    color=diff_colors\n",
    ")\n",
    "plt.title('Smoker Probability by Region', fontsize = 16)\n",
    "plt.xlabel('Region')\n",
    "plt.ylabel('Smoker Probablity')\n",
    "plt.show()\n",
    "# Southeast Region leads the way in BMI levels"
   ]
  },
  {
   "cell_type": "code",
   "execution_count": 67,
   "metadata": {},
   "outputs": [
    {
     "data": {
      "image/png": "[encoded data removed]",
      "text/plain": [
       "<Figure size 432x288 with 1 Axes>"
      ]
     },
     "metadata": {
      "needs_background": "light"
     },
     "output_type": "display_data"
    }
   ],
   "source": [
    "# bar chart to compare insurance costs by region\n",
    "plt.bar(\n",
    "    [\"Northeast\", \"Southeast\", \"Southwest\", \"Northwest\"],\n",
    "    reg_avg_charges.values(),\n",
    "    color=diff_colors\n",
    ")\n",
    "plt.title('Average Insurance Costs by Region', fontsize = 16)\n",
    "plt.xlabel('Region')\n",
    "plt.ylabel('Yearly Insurance Costs')\n",
    "plt.show()"
   ]
  },
  {
   "cell_type": "markdown",
   "metadata": {},
   "source": [
    "# Concluding Thoughts"
   ]
  },
  {
   "cell_type": "markdown",
   "metadata": {},
   "source": [
    "Southeat Region yearly insurance costs lead the way, predicatably it's interesting that I have a few variables here that would directly influence insurance costs. Ages, Children, BMI, Smoker Status, etc. I chose to break everything down by region to highlight differences between different parts of the states and where people might pay the most. Ages and Children were basically flat anywhere you lived. So inconsequential. BMI and Smoker status gave a noticable edge to one region (Southeast). Southeast on average has higher BMI's and higher probability of smokers.\n",
    "Predictably, insurance costs were highest in the southeast. It's a chicken/egg conclusion though, with more data to dive into I could come to more conclusions. But are insurance costs high because of the lifestyles in the Southeast? Or are lifestyles the way they are because health insurance costs are so high? What could fix this? It's almost like high insurance costs are a hinderance to \"getting healthier.\" So what will give or what can change to help change lifestyles for the better?"
   ]
  }
 ],
 "metadata": {
  "kernelspec": {
   "display_name": "Python 3",
   "language": "python",
   "name": "python3"
  },
  "language_info": {
   "codemirror_mode": {
    "name": "ipython",
    "version": 3
   },
   "file_extension": ".py",
   "mimetype": "text/x-python",
   "name": "python",
   "nbconvert_exporter": "python",
   "pygments_lexer": "ipython3",
   "version": "3.8.5"
  }
 },
 "nbformat": 4,
 "nbformat_minor": 4
}
